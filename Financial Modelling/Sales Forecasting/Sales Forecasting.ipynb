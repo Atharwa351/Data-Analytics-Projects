{
 "cells": [
  {
   "cell_type": "code",
   "execution_count": 1,
   "id": "cf87a620-0f67-495b-a9b4-2cc10cbb8a23",
   "metadata": {},
   "outputs": [],
   "source": [
    "import pyforest\n",
    "from statsmodels.tsa.seasonal import seasonal_decompose\n",
    "from statsmodels.tsa.arima_model import ARIMA"
   ]
  },
  {
   "cell_type": "code",
   "execution_count": null,
   "id": "779d3ee8-bcae-4caa-8a8f-e3b06bab9d51",
   "metadata": {},
   "outputs": [
    {
     "data": {
      "application/javascript": [
       "\n",
       "        if (window._pyforest_update_imports_cell) { window._pyforest_update_imports_cell('import pandas as pd'); }\n",
       "    "
      ],
      "text/plain": [
       "<IPython.core.display.Javascript object>"
      ]
     },
     "metadata": {},
     "output_type": "display_data"
    }
   ],
   "source": [
    "df=pd.read_excel('Sales_data.xlsx')"
   ]
  },
  {
   "cell_type": "code",
   "execution_count": null,
   "id": "c56f3c21-3a45-4eb1-ae32-93c4d50734ba",
   "metadata": {},
   "outputs": [],
   "source": [
    "df.info()"
   ]
  },
  {
   "cell_type": "code",
   "execution_count": null,
   "id": "6ebb6006-ce0e-4f6f-9ad4-cd8efc3836a9",
   "metadata": {},
   "outputs": [],
   "source": [
    "df.Store.nunique()"
   ]
  },
  {
   "cell_type": "code",
   "execution_count": null,
   "id": "961e7a3d-75b1-4137-9a6d-49c7aa62eb86",
   "metadata": {},
   "outputs": [],
   "source": [
    "df.Dept.nunique()"
   ]
  },
  {
   "cell_type": "code",
   "execution_count": null,
   "id": "65635ad7-5b13-464d-94fe-437698d48527",
   "metadata": {},
   "outputs": [],
   "source": [
    "df.head(10)"
   ]
  },
  {
   "cell_type": "code",
   "execution_count": null,
   "id": "055608f3-776a-48a3-b269-0d0bde659445",
   "metadata": {},
   "outputs": [],
   "source": [
    "df_store8=df[df.Store==8]"
   ]
  },
  {
   "cell_type": "code",
   "execution_count": null,
   "id": "a42eb347-a86d-42c7-9e2a-8426166617e7",
   "metadata": {},
   "outputs": [],
   "source": [
    "df_store8.info()"
   ]
  },
  {
   "cell_type": "code",
   "execution_count": null,
   "id": "21d433e3-0c8f-45fa-ae66-1773f53316ac",
   "metadata": {},
   "outputs": [],
   "source": [
    "df_store8.Store.nunique()"
   ]
  },
  {
   "cell_type": "code",
   "execution_count": null,
   "id": "51075043-7735-4071-92b0-8aba1ca05cc5",
   "metadata": {},
   "outputs": [],
   "source": [
    "df_store8.head()"
   ]
  },
  {
   "cell_type": "code",
   "execution_count": null,
   "id": "261c77c6-aeb7-483c-935e-63770cf784bc",
   "metadata": {},
   "outputs": [],
   "source": [
    "df_store8.drop(['Dept','IsHoliday','Store'], axis=1,inplace=True)"
   ]
  },
  {
   "cell_type": "code",
   "execution_count": null,
   "id": "9aa364e1-8852-4231-8ed6-ad747726883b",
   "metadata": {},
   "outputs": [],
   "source": [
    "df_store8.head()"
   ]
  },
  {
   "cell_type": "code",
   "execution_count": null,
   "id": "db7cb0c8-9948-4e08-ad96-17908f2e8f3e",
   "metadata": {},
   "outputs": [],
   "source": [
    "df_store8.set_index('Date', inplace=True)"
   ]
  },
  {
   "cell_type": "code",
   "execution_count": null,
   "id": "ae9d1727-cebe-42f2-8748-06d9f68a8fbb",
   "metadata": {},
   "outputs": [],
   "source": [
    "df_store8.head()"
   ]
  },
  {
   "cell_type": "code",
   "execution_count": null,
   "id": "dc2fc7aa-ddff-463c-9b1b-6d3831eea8ab",
   "metadata": {},
   "outputs": [],
   "source": [
    "df1=df_store8.resample('W').mean()"
   ]
  },
  {
   "cell_type": "code",
   "execution_count": null,
   "id": "2a355cc2-9a08-4d0b-b4f0-760e6a52b0e2",
   "metadata": {},
   "outputs": [],
   "source": [
    "df1.Weekly_Sales.plot(kind= 'kde')"
   ]
  },
  {
   "cell_type": "code",
   "execution_count": null,
   "id": "2d672ea2-24ec-445c-8155-f5002a14e3dd",
   "metadata": {},
   "outputs": [],
   "source": [
    "df1.plot(figsize=(20,10))"
   ]
  },
  {
   "cell_type": "code",
   "execution_count": null,
   "id": "8f5bf469-a908-4fde-941d-faf8570469d3",
   "metadata": {},
   "outputs": [],
   "source": [
    "df1.Weekly_Sales.describe()"
   ]
  },
  {
   "cell_type": "code",
   "execution_count": null,
   "id": "f42ac02e-2382-46c6-8c72-b17b8aae3681",
   "metadata": {},
   "outputs": [],
   "source": [
    "seasonal_decomp= seasonal_decompose(df1, model='mul')\n",
    "seasonal_decomp.plot()\n",
    "plt.show()"
   ]
  },
  {
   "cell_type": "code",
   "execution_count": null,
   "id": "5bf1fec7-403e-448c-a934-aff0ac5f1ebe",
   "metadata": {},
   "outputs": [],
   "source": [
    "seasonal_decomp.seasonal"
   ]
  },
  {
   "cell_type": "code",
   "execution_count": null,
   "id": "a6238bb5-1701-463e-9fa6-00ee924e295c",
   "metadata": {},
   "outputs": [],
   "source": [
    "seasonal_decomp.trend.values"
   ]
  },
  {
   "cell_type": "code",
   "execution_count": null,
   "id": "f063ea8b-9301-4e69-85dd-7ee13f6dd524",
   "metadata": {},
   "outputs": [],
   "source": [
    "from sklearn.model_selection import train_test_split"
   ]
  },
  {
   "cell_type": "code",
   "execution_count": null,
   "id": "757c3a80-e6f3-4795-8c40-a8c96065124c",
   "metadata": {},
   "outputs": [],
   "source": [
    "df1.shape"
   ]
  },
  {
   "cell_type": "code",
   "execution_count": null,
   "id": "fa8c429a-34f0-4555-8b0b-6b380534588c",
   "metadata": {},
   "outputs": [],
   "source": [
    "train,test= train_test_split(df1, test_size=0.2, shuffle=False)"
   ]
  },
  {
   "cell_type": "code",
   "execution_count": null,
   "id": "ad14d15f-f761-4546-86d5-acadb96e1186",
   "metadata": {},
   "outputs": [],
   "source": [
    "train.shape"
   ]
  },
  {
   "cell_type": "code",
   "execution_count": null,
   "id": "5ddecd6e-9937-4417-b6c0-bddad61dcb69",
   "metadata": {},
   "outputs": [],
   "source": [
    "test.shape"
   ]
  },
  {
   "cell_type": "code",
   "execution_count": null,
   "id": "8aea30ae-a997-44b8-8571-a73c089d733b",
   "metadata": {},
   "outputs": [],
   "source": [
    "test"
   ]
  },
  {
   "cell_type": "code",
   "execution_count": null,
   "id": "7884d746-662c-44fa-98ba-ec1afd0f6f8d",
   "metadata": {},
   "outputs": [],
   "source": [
    "from statsmodels.tsa.api import SimpleExpSmoothing, ExponentialSmoothing"
   ]
  },
  {
   "cell_type": "code",
   "execution_count": null,
   "id": "a36b8b4e-7044-44c3-a005-48fb186e0604",
   "metadata": {},
   "outputs": [],
   "source": [
    "se= SimpleExpSmoothing(train)"
   ]
  },
  {
   "cell_type": "code",
   "execution_count": null,
   "id": "a38806a6-37c2-48eb-883d-536a2cd8e3b7",
   "metadata": {},
   "outputs": [],
   "source": [
    "sem=se.fit(optimized= True)"
   ]
  },
  {
   "cell_type": "code",
   "execution_count": null,
   "id": "a170fdc0-67bd-43f0-bea8-bcfca3542457",
   "metadata": {},
   "outputs": [],
   "source": [
    "pred_sem= sem.forecast(steps=len(test))"
   ]
  },
  {
   "cell_type": "code",
   "execution_count": null,
   "id": "a2a0e0d2-a768-4521-9cbf-03bbac89707c",
   "metadata": {},
   "outputs": [],
   "source": [
    "plt.figure(figsize= (20,9))\n",
    "plt.plot(train, label= 'Train')\n",
    "plt.plot(test, label='Test')\n",
    "plt.plot(pred_sem)\n",
    "plt.grid()\n",
    "plt.title('Simple Exponential Smoothing Model');"
   ]
  },
  {
   "cell_type": "code",
   "execution_count": null,
   "id": "95118e02-5f52-4aeb-a44b-cdff05d7cba6",
   "metadata": {},
   "outputs": [],
   "source": [
    "te= ExponentialSmoothing(train, trend= 'mul', seasonal='mul')"
   ]
  },
  {
   "cell_type": "code",
   "execution_count": null,
   "id": "52cb1502-96df-409b-b70b-7ebd6edc60bc",
   "metadata": {},
   "outputs": [],
   "source": [
    "tem=te.fit(optimized= True)\n",
    "pred_tem=tem.forecast(steps=len(test))"
   ]
  },
  {
   "cell_type": "code",
   "execution_count": null,
   "id": "8c2f7f6a-ac00-48f5-8c1a-ea6b09a399cf",
   "metadata": {},
   "outputs": [],
   "source": [
    "plt.figure(figsize= (20,8))\n",
    "plt.plot(train, label= 'Train')\n",
    "plt.plot(test, label='Test')\n",
    "plt.plot(pred_tem)\n",
    "plt.grid()\n",
    "plt.title('Triple Exponential Smoothing Model');"
   ]
  },
  {
   "cell_type": "code",
   "execution_count": null,
   "id": "5556f1d6-5fea-4dcc-ba93-0d97ea638f9a",
   "metadata": {},
   "outputs": [],
   "source": [
    "from sklearn.metrics import mean_absolute_error, mean_absolute_percentage_error,mean_squared_error,root_mean_squared_error"
   ]
  },
  {
   "cell_type": "code",
   "execution_count": null,
   "id": "57187af2-497c-4bb0-9678-e5fc6ab7ba74",
   "metadata": {},
   "outputs": [],
   "source": [
    "mae= mean_absolute_error(test, pred_tem)\n",
    "mape= mean_absolute_percentage_error(test, pred_tem)\n",
    "mse= mean_squared_error(test, pred_tem)\n",
    "rmse= root_mean_squared_error(test, pred_tem)\n",
    "print('MAE=', mae,'MAPE=',mape,'MSE=',mse,'RMSE=',rmse)"
   ]
  },
  {
   "cell_type": "code",
   "execution_count": null,
   "id": "7ab50a70-4a27-4dc2-9e99-a47a03aa714c",
   "metadata": {},
   "outputs": [],
   "source": [
    "!pip install pmdarima"
   ]
  },
  {
   "cell_type": "code",
   "execution_count": null,
   "id": "0bc00242-c27a-465d-b982-353b803d2e42",
   "metadata": {},
   "outputs": [],
   "source": [
    "from pmdarima.arima import auto_arima"
   ]
  },
  {
   "cell_type": "code",
   "execution_count": null,
   "id": "3317a91c-e7e0-49f0-8e03-6da47a05d31d",
   "metadata": {},
   "outputs": [],
   "source": [
    "am=auto_arima(train,information_criterion= 'aic')"
   ]
  },
  {
   "cell_type": "code",
   "execution_count": null,
   "id": "2e401d86-8121-4dbb-9656-438edd2525da",
   "metadata": {},
   "outputs": [],
   "source": [
    "armodel=am.fit(train)"
   ]
  },
  {
   "cell_type": "code",
   "execution_count": null,
   "id": "41543a98-eb8b-4326-98bb-d8d09ae8aadc",
   "metadata": {},
   "outputs": [],
   "source": [
    "pred_ar=armodel.predict(n_periods= len(test))"
   ]
  },
  {
   "cell_type": "code",
   "execution_count": null,
   "id": "144e11b9-9bbf-47f1-9e97-61051f4a08db",
   "metadata": {},
   "outputs": [],
   "source": [
    "plt.figure(figsize= (20,8))\n",
    "plt.plot(train, label= 'Train')\n",
    "plt.plot(test, label='Test')\n",
    "plt.plot(pred_ar)\n",
    "plt.grid()\n",
    "plt.title('ARIMA Model');"
   ]
  },
  {
   "cell_type": "code",
   "execution_count": null,
   "id": "ebdef6fb-4018-4ecc-9464-873cf7becaba",
   "metadata": {},
   "outputs": [],
   "source": [
    "mae= mean_absolute_error(test, pred_ar)\n",
    "mape= mean_absolute_percentage_error(test, pred_ar)\n",
    "mse= mean_squared_error(test, pred_ar)\n",
    "rmse= root_mean_squared_error(test, pred_ar)\n",
    "print('MAE=', mae,'MAPE=',mape,'MSE=',mse,'RMSE=',rmse)"
   ]
  },
  {
   "cell_type": "code",
   "execution_count": null,
   "id": "5b33eaf4-9dd1-4ae1-8605-18e0ec008100",
   "metadata": {},
   "outputs": [],
   "source": []
  },
  {
   "cell_type": "code",
   "execution_count": null,
   "id": "d99241ae-505e-403c-9d75-d4cbd8e44716",
   "metadata": {},
   "outputs": [],
   "source": []
  },
  {
   "cell_type": "code",
   "execution_count": null,
   "id": "1287627a-0914-491f-8551-4ecd50fad5c3",
   "metadata": {},
   "outputs": [],
   "source": []
  },
  {
   "cell_type": "code",
   "execution_count": null,
   "id": "dbaffb31-bbc8-4ebf-a3bc-cb65a3b51484",
   "metadata": {},
   "outputs": [],
   "source": []
  },
  {
   "cell_type": "code",
   "execution_count": null,
   "id": "befa1420-6620-406b-b981-9ddfc84fac12",
   "metadata": {},
   "outputs": [],
   "source": []
  },
  {
   "cell_type": "code",
   "execution_count": null,
   "id": "a5bf4417-7f3e-41e1-84c9-60c8f86bb862",
   "metadata": {},
   "outputs": [],
   "source": []
  }
 ],
 "metadata": {
  "kernelspec": {
   "display_name": "Python 3 (ipykernel)",
   "language": "python",
   "name": "python3"
  },
  "language_info": {
   "codemirror_mode": {
    "name": "ipython",
    "version": 3
   },
   "file_extension": ".py",
   "mimetype": "text/x-python",
   "name": "python",
   "nbconvert_exporter": "python",
   "pygments_lexer": "ipython3",
   "version": "3.12.4"
  }
 },
 "nbformat": 4,
 "nbformat_minor": 5
}
